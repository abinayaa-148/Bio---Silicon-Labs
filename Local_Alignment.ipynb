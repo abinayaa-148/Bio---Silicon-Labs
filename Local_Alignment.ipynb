{
  "nbformat": 4,
  "nbformat_minor": 0,
  "metadata": {
    "colab": {
      "provenance": [],
      "authorship_tag": "ABX9TyNzQqQEgAzFSjjWIh7EWOJt",
      "include_colab_link": true
    },
    "kernelspec": {
      "name": "python3",
      "display_name": "Python 3"
    },
    "language_info": {
      "name": "python"
    }
  },
  "cells": [
    {
      "cell_type": "markdown",
      "metadata": {
        "id": "view-in-github",
        "colab_type": "text"
      },
      "source": [
        "<a href=\"https://colab.research.google.com/github/abinayaa-148/Bio---Silicon-Labs/blob/main/Local_Alignment.ipynb\" target=\"_parent\"><img src=\"https://colab.research.google.com/assets/colab-badge.svg\" alt=\"Open In Colab\"/></a>"
      ]
    },
    {
      "cell_type": "code",
      "source": [
        "import numpy as np\n",
        "import pandas as pd\n",
        "\n",
        "# scoring setup\n",
        "MATCH_SCORE = 1\n",
        "MISMATCH_SCORE = -1\n",
        "GAP_SCORE = -2\n",
        "\n",
        "def smith_waterman(seq1, seq2):\n",
        "    m, n = len(seq1), len(seq2)\n",
        "    score_matrix = np.zeros((m+1, n+1), dtype=int)\n",
        "    # Step 2: Matrix filling\n",
        "    for i in range(1, m+1):\n",
        "        for j in range(1, n+1):\n",
        "            match = score_matrix[i-1, j-1] + (MATCH_SCORE if seq1[i-1] == seq2[j-1] else MISMATCH_SCORE)\n",
        "            delete = score_matrix[i-1, j] + GAP_SCORE\n",
        "            insert = score_matrix[i, j-1] + GAP_SCORE\n",
        "            score_matrix[i, j] = max(0, match, delete, insert)\n",
        "    # Step 3: Traceback\n",
        "    align1, align2 = [], []\n",
        "    i, j = np.unravel_index(np.argmax(score_matrix), score_matrix.shape)\n",
        "    max_score = score_matrix[i, j]\n",
        "    while i > 0 and j > 0 and score_matrix[i, j] > 0:\n",
        "        current_score = score_matrix[i, j]\n",
        "        diagonal_score = score_matrix[i-1, j-1]\n",
        "        up_score = score_matrix[i-1, j]\n",
        "        left_score = score_matrix[i, j-1]\n",
        "        if current_score == diagonal_score + (MATCH_SCORE if seq1[i-1] == seq2[j-1] else MISMATCH_SCORE):\n",
        "            align1.append(seq1[i-1])\n",
        "            align2.append(seq2[j-1])\n",
        "            i -= 1\n",
        "            j -= 1\n",
        "        elif current_score == up_score + GAP_SCORE:\n",
        "            align1.append(seq1[i-1])\n",
        "            align2.append('-')\n",
        "            i -= 1\n",
        "        elif current_score == left_score + GAP_SCORE:\n",
        "            align1.append('-')\n",
        "            align2.append(seq2[j-1])\n",
        "            j -= 1\n",
        "    align1.reverse()\n",
        "    align2.reverse()\n",
        "    aligned_seq1 = ''.join(align1)\n",
        "    aligned_seq2 = ''.join(align2)\n",
        "    return aligned_seq1, aligned_seq2, max_score, score_matrix\n",
        "\n",
        "\n",
        "\n",
        "# Test case\n",
        "seq1 = \"ATGCATAGGC\"\n",
        "seq2 = \"ATGCATGC\"\n",
        "\n",
        "# Call smith_waterman function and store the alignment scores\n",
        "aligned_seq1, aligned_seq2, score, score_matrix = smith_waterman(seq1, seq2)\n",
        "\n",
        "print(\"\\nAlignment Score:\", score)\n",
        "print(\"\\nAligned Sequences:\")\n",
        "print(aligned_seq1)\n",
        "print(aligned_seq2)\n",
        "\n",
        "# Convert score matrix to DataFrame (excluding the 0th row/column)\n",
        "score_df = pd.DataFrame(\n",
        "    score_matrix[1:, 1:],  # skip the first row and column (which are zeros)\n",
        "    index=list(seq1),\n",
        "    columns=list(seq2)\n",
        ")\n",
        "\n",
        "print(\"\\nScore Matrix:\")\n",
        "print(score_df)"
      ],
      "metadata": {
        "colab": {
          "base_uri": "https://localhost:8080/"
        },
        "id": "P7w-zXTe-MxH",
        "outputId": "3fd34a39-a1f0-40a4-be3d-225e6ee68336"
      },
      "execution_count": null,
      "outputs": [
        {
          "output_type": "stream",
          "name": "stdout",
          "text": [
            "\n",
            "Alignment Score: 6\n",
            "\n",
            "Aligned Sequences:\n",
            "ATGCAT\n",
            "ATGCAT\n",
            "\n",
            "Score Matrix:\n",
            "   A  T  G  C  A  T  G  C\n",
            "A  1  0  0  0  1  0  0  0\n",
            "T  0  2  0  0  0  2  0  0\n",
            "G  0  0  3  1  0  0  3  1\n",
            "C  0  0  1  4  2  0  1  4\n",
            "A  1  0  0  2  5  3  1  2\n",
            "T  0  2  0  0  3  6  4  2\n",
            "A  1  0  1  0  1  4  5  3\n",
            "G  0  0  1  0  0  2  5  4\n",
            "G  0  0  1  0  0  0  3  4\n",
            "C  0  0  0  2  0  0  1  4\n"
          ]
        }
      ]
    }
  ]
}