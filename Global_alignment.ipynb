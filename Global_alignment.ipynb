{
  "nbformat": 4,
  "nbformat_minor": 0,
  "metadata": {
    "colab": {
      "provenance": [],
      "authorship_tag": "ABX9TyM1EakhJB4U7oaf8HJ269B+",
      "include_colab_link": true
    },
    "kernelspec": {
      "name": "python3",
      "display_name": "Python 3"
    },
    "language_info": {
      "name": "python"
    }
  },
  "cells": [
    {
      "cell_type": "markdown",
      "metadata": {
        "id": "view-in-github",
        "colab_type": "text"
      },
      "source": [
        "<a href=\"https://colab.research.google.com/github/abinayaa-148/Bio---Silicon-Labs/blob/main/Global_alignment.ipynb\" target=\"_parent\"><img src=\"https://colab.research.google.com/assets/colab-badge.svg\" alt=\"Open In Colab\"/></a>"
      ]
    },
    {
      "cell_type": "code",
      "source": [
        "import numpy as np\n",
        "import pandas as pd\n",
        "\n",
        "# Scoring setup\n",
        "Match_score = 1\n",
        "Mismatch_penalty = -1\n",
        "Gap_penalty = -2\n",
        "\n",
        "def needleman_wunsch(seq1, seq2):\n",
        "    # Initialize scoring matrix\n",
        "    m = len(seq1)\n",
        "    n = len(seq2)\n",
        "    score_matrix = np.zeros((m+1, n+1), dtype=int)\n",
        "\n",
        "    # Fill the first row and column with gap penalties\n",
        "    for i in range(m + 1):\n",
        "        score_matrix[i][0] = Gap_penalty * i\n",
        "    for j in range(n + 1):\n",
        "        score_matrix[0][j] = Gap_penalty * j\n",
        "\n",
        "    # Fill the scoring matrix\n",
        "    for i in range(1, m + 1):\n",
        "        for j in range(1, n + 1):\n",
        "            match = score_matrix[i - 1][j - 1] + (Match_score if seq1[i - 1] == seq2[j - 1] else Mismatch_penalty)\n",
        "            delete = score_matrix[i - 1][j] + Gap_penalty\n",
        "            insert = score_matrix[i][j - 1] + Gap_penalty\n",
        "            score_matrix[i][j] = max(match, delete, insert)\n",
        "\n",
        "    # Convert to DataFrame for better visualization\n",
        "    df_score = pd.DataFrame(score_matrix, index=[\"-\"] + list(seq1), columns=[\"-\"] + list(seq2))\n",
        "\n",
        "    # Traceback to get alignment\n",
        "    align1, align2 = \"\", \"\"\n",
        "    i, j = m, n\n",
        "\n",
        "    while i > 0 and j > 0:\n",
        "        current_score = score_matrix[i][j]\n",
        "        diagonal = score_matrix[i - 1][j - 1]\n",
        "        up = score_matrix[i - 1][j]\n",
        "        left = score_matrix[i][j - 1]\n",
        "\n",
        "        if current_score == diagonal + (Match_score if seq1[i - 1] == seq2[j - 1] else Mismatch_penalty):\n",
        "            align1 = seq1[i - 1] + align1\n",
        "            align2 = seq2[j - 1] + align2\n",
        "            i -= 1\n",
        "            j -= 1\n",
        "        elif current_score == up + Gap_penalty:\n",
        "            align1 = seq1[i - 1] + align1\n",
        "            align2 = \"-\" + align2\n",
        "            i -= 1\n",
        "        else:\n",
        "            align1 = \"-\" + align1\n",
        "            align2 = seq2[j - 1] + align2\n",
        "            j -= 1\n",
        "\n",
        "    # Finish tracing up or left if any remain\n",
        "    while i > 0:\n",
        "        align1 = seq1[i - 1] + align1\n",
        "        align2 = \"-\" + align2\n",
        "        i -= 1\n",
        "    while j > 0:\n",
        "        align1 = \"-\" + align1\n",
        "        align2 = seq2[j - 1] + align2\n",
        "        j -= 1\n",
        "\n",
        "    # Final alignment score is the value at the bottom-right of the score matrix\n",
        "    alignment_score = score_matrix[m][n]\n",
        "\n",
        "    return align1, align2, df_score, alignment_score\n",
        "\n",
        "# Example usage\n",
        "seq1 = \"ATGCATGC\"\n",
        "seq2 = \"ATGCATGC\"\n",
        "align1, align2, matrix, score = needleman_wunsch(seq1, seq2)\n",
        "\n",
        "print(\"Alignment 1:\", align1)\n",
        "print(\"Alignment 2:\", align2)\n",
        "print(\"\\nScore Matrix:\")\n",
        "print(matrix)\n",
        "print(\"\\nAlignment Score:\", score)\n"
      ],
      "metadata": {
        "colab": {
          "base_uri": "https://localhost:8080/"
        },
        "id": "lIuJUUxMnh1_",
        "outputId": "8be75970-20d0-4c1b-83ea-e6a9bafa14f6"
      },
      "execution_count": null,
      "outputs": [
        {
          "output_type": "stream",
          "name": "stdout",
          "text": [
            "Alignment 1: ATGCATGC\n",
            "Alignment 2: ATGCATGC\n",
            "\n",
            "Score Matrix:\n",
            "    -   A   T  G  C   A   T   G   C\n",
            "-   0  -2  -4 -6 -8 -10 -12 -14 -16\n",
            "A  -2   1  -1 -3 -5  -7  -9 -11 -13\n",
            "T  -4  -1   2  0 -2  -4  -6  -8 -10\n",
            "G  -6  -3   0  3  1  -1  -3  -5  -7\n",
            "C  -8  -5  -2  1  4   2   0  -2  -4\n",
            "A -10  -7  -4 -1  2   5   3   1  -1\n",
            "T -12  -9  -6 -3  0   3   6   4   2\n",
            "G -14 -11  -8 -5 -2   1   4   7   5\n",
            "C -16 -13 -10 -7 -4  -1   2   5   8\n",
            "\n",
            "Alignment Score: 8\n"
          ]
        }
      ]
    }
  ]
}